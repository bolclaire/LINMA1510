{
 "cells": [
  {
   "cell_type": "code",
   "execution_count": 1,
   "metadata": {},
   "outputs": [
    {
     "data": {
      "application/vnd.jupyter.widget-view+json": {
       "model_id": "3330d454b7c84949a3b42013322dc2b7",
       "version_major": 2,
       "version_minor": 0
      },
      "text/plain": [
       "interactive(children=(FloatSlider(value=7.8, description='Kp:', step=0.01), FloatSlider(value=0.4713, descript…"
      ]
     },
     "metadata": {},
     "output_type": "display_data"
    }
   ],
   "source": [
    "import numpy as np\n",
    "import matplotlib.pyplot as plt\n",
    "from matplotlib.patches import Wedge, Circle\n",
    "from ipywidgets import interact\n",
    "import ipywidgets as widgets\n",
    "\n",
    "A = 1\n",
    "tau = 4.182\n",
    "\n",
    "# Function to calculate complex roots of the quadratic equation\n",
    "def calc_complex_roots(Kp, Td, Ti):\n",
    "    # EQ : a * z^2 + b * z + c = 0\n",
    "    a = A*Kp*Td + tau\n",
    "    b = A*Kp + 1\n",
    "    c = A*Kp/Ti\n",
    "    discriminant = b**2 - 4*a*c\n",
    "    if discriminant < 0:\n",
    "        # Complex roots\n",
    "        root1 = (-b + np.sqrt(discriminant + 0j)) / (2*a)\n",
    "        root2 = (-b - np.sqrt(discriminant + 0j)) / (2*a)\n",
    "    else:\n",
    "        # Real roots\n",
    "        root1 = (-b + np.sqrt(discriminant)) / (2*a)\n",
    "        root2 = (-b - np.sqrt(discriminant)) / (2*a)\n",
    "    return root1, root2\n",
    "\n",
    "# Plot setup function\n",
    "def plot_complex_plane(Kp=1, Td=1, Ti=1):\n",
    "    fig, ax = plt.subplots(figsize=(6, 6))\n",
    "    ax.set_aspect('equal')\n",
    "    \n",
    "    # Plot settings\n",
    "    ax.set_xlim([-2, 2])\n",
    "    ax.set_ylim([-2, 2])\n",
    "    ax.set_xlabel('Re')\n",
    "    ax.set_ylabel('Im')\n",
    "    ax.grid(True)\n",
    "    \n",
    "    # Delimited zone: based on the provided conditions\n",
    "    # 1. Vertical line at Re = -3/8.5\n",
    "    ax.axvline(x=-3/8.5, color='black', linestyle='--', label='Re = -3/8.5')\n",
    "\n",
    "    # 2. Left semi-circle with radius 0.46\n",
    "    semi_circle = Circle((0, 0), 0.46, color='gray', fill=False, linestyle='--')\n",
    "    ax.add_patch(semi_circle)\n",
    "\n",
    "    # 3. Angle zone between pi - phi and pi + phi, with phi = 69° in radians\n",
    "    phi = np.radians(69)\n",
    "    wedge = Wedge((0, 0), 2, np.degrees(np.pi - phi), np.degrees(np.pi + phi), color='lightblue', alpha=0.3)\n",
    "    ax.add_patch(wedge)\n",
    "\n",
    "    # Calculate and plot the roots\n",
    "    root1, root2 = calc_complex_roots(Kp, Td, Ti)\n",
    "    ax.plot([root1.real], [root1.imag], 'ro', label=f'Root 1: {root1:.2f}')\n",
    "    ax.plot([root2.real], [root2.imag], 'ro', label=f'Root 2: {root2:.2f}')\n",
    "    \n",
    "    ax.legend()\n",
    "    plt.show()\n",
    "\n",
    "# Create interactive sliders for parameters Kp, Td, Ti\n",
    "Kp_slider = widgets.FloatSlider(value=7.8, min=0, max=100, step=0.01, description='Kp:')\n",
    "Td_slider = widgets.FloatSlider(value=0.4713, min=0, max=100, step=0.01, description='Td:')\n",
    "Ti_slider = widgets.FloatSlider(value=1.8850, min=0, max=100, step=0.01, description='Ti:')\n",
    "\n",
    "# Link sliders to the plot function\n",
    "interact(plot_complex_plane, Kp=Kp_slider, Td=Td_slider, Ti=Ti_slider);\n"
   ]
  },
  {
   "cell_type": "code",
   "execution_count": 3,
   "metadata": {},
   "outputs": [
    {
     "name": "stdout",
     "output_type": "stream",
     "text": [
      "(0.011461314482758667-0.0005137280000004907j)\n"
     ]
    }
   ],
   "source": [
    "Kp, Td, Ti = 7.8, 0.4713, 1.8850\n",
    "s = -0.56 + 0.46*1j\n",
    "\n",
    "\n",
    "a = A*Kp*Td + tau\n",
    "b = A*Kp + 1\n",
    "c = A*Kp/Ti\n",
    "print(a*s**2 + b*s + c)"
   ]
  }
 ],
 "metadata": {
  "kernelspec": {
   "display_name": "base",
   "language": "python",
   "name": "python3"
  },
  "language_info": {
   "codemirror_mode": {
    "name": "ipython",
    "version": 3
   },
   "file_extension": ".py",
   "mimetype": "text/x-python",
   "name": "python",
   "nbconvert_exporter": "python",
   "pygments_lexer": "ipython3",
   "version": "3.9.13"
  }
 },
 "nbformat": 4,
 "nbformat_minor": 2
}
